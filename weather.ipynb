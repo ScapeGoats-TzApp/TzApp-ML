{
 "cells": [
  {
   "cell_type": "markdown",
   "id": "82c219e4",
   "metadata": {},
   "source": [
    "**Imports**"
   ]
  },
  {
   "cell_type": "code",
   "execution_count": 4,
   "id": "7baf2c20",
   "metadata": {},
   "outputs": [],
   "source": [
    "import numpy as np\n",
    "import pandas as pd\n",
    "import matplotlib.pyplot as plt\n",
    "import lightgbm as lgb\n",
    "from sklearn.metrics import accuracy_score, classification_report\n",
    "from sklearn.model_selection import train_test_split\n",
    "from sklearn.pipeline import Pipeline\n",
    "from sklearn.preprocessing import StandardScaler, OneHotEncoder\n",
    "from sklearn.compose import ColumnTransformer\n",
    "from sklearn.feature_selection import SelectKBest, f_classif"
   ]
  },
  {
   "cell_type": "markdown",
   "id": "707e9493",
   "metadata": {},
   "source": [
    "**Geographic Feature Engineering**"
   ]
  },
  {
   "cell_type": "code",
   "execution_count": 5,
   "id": "ea70a895",
   "metadata": {},
   "outputs": [
    {
     "name": "stdout",
     "output_type": "stream",
     "text": [
      "<class 'pandas.core.frame.DataFrame'>\n",
      "RangeIndex: 1048349 entries, 0 to 1048348\n",
      "Data columns (total 27 columns):\n",
      " #   Column                Non-Null Count    Dtype  \n",
      "---  ------                --------------    -----  \n",
      " 0   data                  1048349 non-null  object \n",
      " 1   latitudine            1048349 non-null  float64\n",
      " 2   longitudine           1048349 non-null  float64\n",
      " 3   altitude              1048349 non-null  float64\n",
      " 4   air_temp              1048349 non-null  float64\n",
      " 5   precip_mm_day         1048349 non-null  float64\n",
      " 6   wind_mps              1048349 non-null  float64\n",
      " 7   pressure              1048349 non-null  float64\n",
      " 8   relative_umidity      1048349 non-null  float64\n",
      " 9   category              1048349 non-null  object \n",
      " 10  month                 1048349 non-null  int64  \n",
      " 11  season                1048349 non-null  int64  \n",
      " 12  climate_zone          1048349 non-null  object \n",
      " 13  altitude_cat          1048349 non-null  object \n",
      " 14  is_very_hot           1048349 non-null  int64  \n",
      " 15  is_very_cold          1048349 non-null  int64  \n",
      " 16  is_very_dry           1048349 non-null  int64  \n",
      " 17  is_very_wet           1048349 non-null  int64  \n",
      " 18  is_heavy_rain         1048349 non-null  int64  \n",
      " 19  is_no_rain            1048349 non-null  int64  \n",
      " 20  is_extreme_altitude   1048349 non-null  int64  \n",
      " 21  is_tropical_lat       1048349 non-null  int64  \n",
      " 22  warm_monsoon          1048349 non-null  int64  \n",
      " 23  ultra_extreme         1048349 non-null  int64  \n",
      " 24  is_warm_temp          1048349 non-null  int64  \n",
      " 25  is_extreme_cold_temp  1048349 non-null  int64  \n",
      " 26  season_simple         1048349 non-null  object \n",
      "dtypes: float64(8), int64(14), object(5)\n",
      "memory usage: 216.0+ MB\n"
     ]
    }
   ],
   "source": [
    "weather_df = pd.read_csv('weather.csv')\n",
    "\n",
    "def add_climate_zones(df):\n",
    "    df = df.copy()\n",
    "    \n",
    "    df['climate_zone'] = df.apply(lambda row: \n",
    "        'Arctic' if (abs(row['latitudine']) >= 60 or row['altitude'] > 4000)\n",
    "        else 'Temperate' if abs(row['latitudine']) >= 25\n",
    "        else 'Tropical', axis=1\n",
    "    )\n",
    "    \n",
    "    df['altitude_cat'] = df.apply(lambda row:\n",
    "        'High' if row['altitude'] > 2000\n",
    "        else 'Medium' if row['altitude'] > 500\n",
    "        else 'Low', axis=1\n",
    "    )\n",
    "    \n",
    "    df['is_very_hot'] = (df['air_temp'] > 45).astype(int)\n",
    "    df['is_very_cold'] = (df['air_temp'] < -20).astype(int)  \n",
    "    df['is_very_dry'] = (df['relative_umidity'] < 15).astype(int)\n",
    "    df['is_very_wet'] = (df['relative_umidity'] > 90).astype(int)\n",
    "    df['is_heavy_rain'] = (df['precip_mm_day'] > 60).astype(int)\n",
    "    df['is_no_rain'] = (df['precip_mm_day'] < 1).astype(int)\n",
    "    df['is_extreme_altitude'] = (df['altitude'] > 4500).astype(int)\n",
    "    df['is_tropical_lat'] = (abs(df['latitudine']) < 25).astype(int)\n",
    "    \n",
    "\n",
    "    df['warm_monsoon'] = df.apply(lambda row:\n",
    "        1 if (abs(row['latitudine']) < 25 and \n",
    "              row['air_temp'] > 27 and \n",
    "              row['precip_mm_day'] > 80 and\n",
    "              row['relative_umidity'] > 90) else 0, axis=1\n",
    "    )\n",
    "    \n",
    "    df['ultra_extreme'] = df.apply(lambda row:\n",
    "        1 if (row['altitude'] > 5000 and \n",
    "              row['air_temp'] < -10 and\n",
    "              row['pressure'] < 600) else 0, axis=1\n",
    "    )\n",
    "    \n",
    "    df['is_warm_temp'] = ((df['air_temp'] >= 25) & (df['air_temp'] < 35)).astype(int)\n",
    "    df['is_extreme_cold_temp'] = (df['air_temp'] < -35).astype(int)\n",
    "    \n",
    "    df['season_simple'] = df['month'].apply(\n",
    "        lambda m: 'Summer' if m in [6, 7, 8] \n",
    "        else 'Winter' if m in [12, 1, 2] \n",
    "        else 'Spring/Fall'\n",
    "    )\n",
    "    \n",
    "    return df\n",
    "\n",
    "weather_df = add_climate_zones(weather_df)\n",
    "weather_df.info()"
   ]
  },
  {
   "cell_type": "markdown",
   "id": "412fe041",
   "metadata": {},
   "source": [
    "**Model Creation**"
   ]
  },
  {
   "cell_type": "code",
   "execution_count": 6,
   "id": "2072a6b0",
   "metadata": {},
   "outputs": [
    {
     "name": "stderr",
     "output_type": "stream",
     "text": [
      "/home/luca/Tzapp/WeatherCategorization/.venv/lib/python3.12/site-packages/sklearn/feature_selection/_univariate_selection.py:110: UserWarning: Features [13 14 16 18 19] are constant.\n",
      "  warnings.warn(\"Features %s are constant.\" % constant_features_idx, UserWarning)\n",
      "/home/luca/Tzapp/WeatherCategorization/.venv/lib/python3.12/site-packages/sklearn/feature_selection/_univariate_selection.py:111: RuntimeWarning: invalid value encountered in divide\n",
      "  f = msb / msw\n"
     ]
    },
    {
     "name": "stdout",
     "output_type": "stream",
     "text": [
      "Accuracy score: \n",
      " 0.9787046310869462\n",
      "Classification report: \n",
      "                                precision    recall  f1-score   support\n",
      "\n",
      "       Arctic Extreme Cold ❄️       1.00      1.00      1.00     21702\n",
      "                Arctic Mild 🐧       0.95      1.00      0.97     10432\n",
      "              Arctic Severe 🧊       1.00      1.00      1.00     10619\n",
      "  Desert Hot & Dry (Summer) 🏜       1.00      1.00      1.00      2053\n",
      "Equatorial Dry-Season Sunny ☀       0.49      0.89      0.63      3748\n",
      "            Temperate Cold ❄️       1.00      1.00      1.00     15129\n",
      "             Temperate Cool 🌲       1.00      0.99      0.99     54407\n",
      "             Temperate Warm 🍃       1.00      1.00      1.00     14711\n",
      "              Tropical Cool 🌊       1.00      1.00      1.00     23824\n",
      "              Tropical Mild 🌿       1.00      1.00      1.00     24320\n",
      "              Tropical Warm 🌺       0.98      0.88      0.93     28725\n",
      "\n",
      "                     accuracy                           0.98    209670\n",
      "                    macro avg       0.95      0.98      0.96    209670\n",
      "                 weighted avg       0.99      0.98      0.98    209670\n",
      "\n"
     ]
    }
   ],
   "source": [
    "from sklearn.ensemble import RandomForestClassifier\n",
    "\n",
    "X = weather_df.drop(columns=['data', 'category'], errors='ignore')\n",
    "y = weather_df['category']\n",
    "\n",
    "X_train, X_test, y_train, y_test = train_test_split(X, y, test_size=0.2, random_state=42, stratify=y)\n",
    "\n",
    "numerical_features = X_train.select_dtypes(include=['float64', 'int64']).columns.tolist()\n",
    "categorical_features = X_train.select_dtypes(include=['object']).columns.tolist()\n",
    "\n",
    "preprocessor = ColumnTransformer(\n",
    "\ttransformers=[\n",
    "\t\t('num', StandardScaler(), numerical_features),\n",
    "\t\t('cat', OneHotEncoder(handle_unknown='ignore', sparse_output=False), categorical_features)\n",
    "\t]\n",
    ")\n",
    "\n",
    "pipeline = Pipeline(steps=[\n",
    "\t('preprocessor', preprocessor),\n",
    "\t('feature_selection', SelectKBest(score_func=f_classif, k=15)),\n",
    "\t('classifier', None)\n",
    "])\n",
    "\n",
    "rf_model = RandomForestClassifier(\n",
    "\tn_estimators=100,\n",
    "\tmax_depth=15,\n",
    "\tmin_samples_split=100,\n",
    "\tmin_samples_leaf=50,\n",
    "\tmax_features='sqrt',\n",
    "\tclass_weight='balanced',\n",
    "\trandom_state=42,\n",
    "\tn_jobs=-1\n",
    ")\n",
    "pipeline.set_params(classifier=rf_model)\n",
    "pipeline.fit(X_train, y_train)\n",
    "\n",
    "y_pred = pipeline.predict(X_test)\n",
    "print(\"Accuracy score: \\n\", accuracy_score(y_test, y_pred))\n",
    "print(\"Classification report: \\n\", classification_report(y_test, y_pred))"
   ]
  }
 ],
 "metadata": {
  "kernelspec": {
   "display_name": ".venv",
   "language": "python",
   "name": "python3"
  },
  "language_info": {
   "codemirror_mode": {
    "name": "ipython",
    "version": 3
   },
   "file_extension": ".py",
   "mimetype": "text/x-python",
   "name": "python",
   "nbconvert_exporter": "python",
   "pygments_lexer": "ipython3",
   "version": "3.12.3"
  }
 },
 "nbformat": 4,
 "nbformat_minor": 5
}
